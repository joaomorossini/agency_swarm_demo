{
 "cells": [
  {
   "cell_type": "code",
   "execution_count": 1,
   "metadata": {},
   "outputs": [
    {
     "data": {
      "text/plain": [
       "True"
      ]
     },
     "execution_count": 1,
     "metadata": {},
     "output_type": "execute_result"
    }
   ],
   "source": [
    "import os\n",
    "import requests\n",
    "from dotenv import load_dotenv\n",
    "# from langchain.tools import StructuredTool, BaseTool, tool\n",
    "from langchain_core.pydantic_v1 import BaseModel, Field\n",
    "from langchain_core.tools import ToolException\n",
    "from pydantic import ValidationError\n",
    "from typing import Any, Type, List, Dict\n",
    "import datetime\n",
    "\n",
    "from openai import AzureOpenAI\n",
    "from agency_swarm import set_openai_client\n",
    "from agency_swarm import Agent, Agency\n",
    "\n",
    "\n",
    "from composio.tools.local.clickup.actions.base import OpenAPIAction\n",
    "from composio.tools.local.clickup.actions.create_task import CreateTask, CreateTaskResponse\n",
    "\n",
    "from agents.ClickUpAgent.tools.ClickUpTools import initialize_clickup_tools\n",
    "\n",
    "\n",
    "load_dotenv()"
   ]
  },
  {
   "cell_type": "code",
   "execution_count": 2,
   "metadata": {},
   "outputs": [],
   "source": [
    "client = AzureOpenAI(\n",
    "    api_key=os.getenv(\"AZURE_OPENAI_API_KEY\"),\n",
    "    api_version=os.getenv(\"OPENAI_API_VERSION\"),\n",
    "    azure_endpoint=os.getenv(\"AZURE_OPENAI_ENDPOINT\"),\n",
    "    timeout=5,\n",
    "    max_retries=5,\n",
    ")\n",
    "\n",
    "set_openai_client(client)"
   ]
  },
  {
   "cell_type": "code",
   "execution_count": 3,
   "metadata": {},
   "outputs": [],
   "source": [
    "project_manager = Agent(\n",
    "    name=\"project_manager\",\n",
    "    description=\"I am the Project Manager\",\n",
    "    model=\"gpt-4o\",\n",
    "    )"
   ]
  },
  {
   "cell_type": "code",
   "execution_count": 4,
   "metadata": {},
   "outputs": [],
   "source": [
    "clickup_agent_instructions = f\"\"\"# PROJECT_MANAGEMENT\n",
    "Your team uses ClickUp to manage projects and tasks.\n",
    "Users often refer to lists and tasks by name, and sometimes there may not be an exact match, so you should look for the closest ones.\n",
    "If in doubt, provide the user with valid options to choose from or ask for more information if necessary.\n",
    "\n",
    "## CLICKUP_STRUCTURE\n",
    "-> Workspace: The highest level of organization in ClickUp. Contains all your Spaces.\n",
    "--> Space: A collection of Folders and Lists. It is a way to group related work.\n",
    "---> Folder: Used to group Lists.\n",
    "----> List: Used to group tasks. Lists can be in a Folder or directly in a Space.\n",
    "-----> Task: The basic unit of work in ClickUp, assignable with due dates.\n",
    "------> Subtask: A child task of a parent Task, assignable to different people.\n",
    "\n",
    "## DEFAULT_CLICKUP_IDS\n",
    "Use these IDs unless specified otherwise\n",
    "- Team ID: {os.getenv(\"CLICKUP_TEAM_ID\")}\n",
    "- List ID 'test_clickup_tool': {os.getenv(\"CLICKUP_LIST_ID\")}\n",
    "\n",
    "## CLICKUP_USERS\n",
    "- Your id: {os.getenv(\"CLICKUP_AGENT_USER_ID\")}\n",
    "- Main user id: {os.getenv(\"CLICKUP_USER_ID\")}\n",
    "\"\"\""
   ]
  },
  {
   "cell_type": "code",
   "execution_count": 5,
   "metadata": {},
   "outputs": [
    {
     "name": "stdout",
     "output_type": "stream",
     "text": [
      "[<class 'utils.tool_wrapper._convert_function_tool.<locals>.ConvertedFunctionTool'>, <class 'utils.tool_wrapper._convert_function_tool.<locals>.ConvertedFunctionTool'>, <class 'utils.tool_wrapper._convert_function_tool.<locals>.ConvertedFunctionTool'>, <class 'utils.tool_wrapper._convert_function_tool.<locals>.ConvertedFunctionTool'>, <class 'utils.tool_wrapper._convert_function_tool.<locals>.ConvertedFunctionTool'>, <class 'utils.tool_wrapper._convert_function_tool.<locals>.ConvertedFunctionTool'>, <class 'utils.tool_wrapper._convert_function_tool.<locals>.ConvertedFunctionTool'>, <class 'utils.tool_wrapper._convert_function_tool.<locals>.ConvertedFunctionTool'>]\n"
     ]
    }
   ],
   "source": [
    "# clickup_tools = initialize_clickup_tools()\n",
    "# print(clickup_tools)"
   ]
  },
  {
   "cell_type": "code",
   "execution_count": null,
   "metadata": {},
   "outputs": [],
   "source": [
    "from agents.ClickUpAgent.tools.GetTaskTool import GetTaskTool\n",
    "from utils.tool_wrapper import convert_langchain_tools\n",
    "get_task_tool = GetTaskTool()\n",
    "clickup_tools = convert_langchain_tools([get_task_tool])"
   ]
  },
  {
   "cell_type": "code",
   "execution_count": 6,
   "metadata": {},
   "outputs": [
    {
     "data": {
      "text/plain": [
       "'Create_task_toolTool'"
      ]
     },
     "execution_count": 6,
     "metadata": {},
     "output_type": "execute_result"
    }
   ],
   "source": [
    "clickup_tools[0].__name__"
   ]
  },
  {
   "cell_type": "code",
   "execution_count": 7,
   "metadata": {},
   "outputs": [],
   "source": [
    "\n",
    "clickup_agent = Agent(\n",
    "    name=\"clickup_agent\",\n",
    "    description=\"I am a simple agent\",\n",
    "    instructions=clickup_agent_instructions,\n",
    "    model=\"gpt-4o\",\n",
    "    tools=clickup_tools,\n",
    "    )"
   ]
  },
  {
   "cell_type": "code",
   "execution_count": 8,
   "metadata": {},
   "outputs": [
    {
     "name": "stdout",
     "output_type": "stream",
     "text": [
      "Updating agent... clickup_agent\n"
     ]
    }
   ],
   "source": [
    "agency = Agency(\n",
    "    agency_chart=[\n",
    "    project_manager,\n",
    "    [project_manager, clickup_agent],\n",
    "],\n",
    "    # shared_instructions=\"agency_manifesto.md\"\n",
    ")"
   ]
  },
  {
   "cell_type": "code",
   "execution_count": 9,
   "metadata": {},
   "outputs": [
    {
     "name": "stderr",
     "output_type": "stream",
     "text": [
      "/Users/morossini/Projects/professional_demos/agency_swarm_demo/.venv/lib/python3.11/site-packages/tqdm/auto.py:21: TqdmWarning: IProgress not found. Please update jupyter and ipywidgets. See https://ipywidgets.readthedocs.io/en/stable/user_install.html\n",
      "  from .autonotebook import tqdm as notebook_tqdm\n",
      "/Users/morossini/Projects/professional_demos/agency_swarm_demo/.venv/lib/python3.11/site-packages/gradio/components/chatbot.py:285: UserWarning: You have not specified a value for the `type` parameter. Defaulting to the 'tuples' format for chatbot messages, but this is deprecated and will be removed in a future version of Gradio. Please set type='messages' instead, which uses openai-style dictionaries with 'role' and 'content' keys.\n",
      "  warnings.warn(\n"
     ]
    },
    {
     "name": "stdout",
     "output_type": "stream",
     "text": [
      "* Running on local URL:  http://127.0.0.1:7860\n",
      "\n",
      "To create a public link, set `share=True` in `launch()`.\n"
     ]
    },
    {
     "data": {
      "text/html": [
       "<div><iframe src=\"http://127.0.0.1:7860/\" width=\"100%\" height=\"500\" allow=\"autoplay; camera; microphone; clipboard-read; clipboard-write;\" frameborder=\"0\" allowfullscreen></iframe></div>"
      ],
      "text/plain": [
       "<IPython.core.display.HTML object>"
      ]
     },
     "metadata": {},
     "output_type": "display_data"
    },
    {
     "data": {
      "text/plain": [
       "Gradio Blocks instance: 6 backend functions\n",
       "-------------------------------------------\n",
       "fn_index=0\n",
       " inputs:\n",
       " |-<gradio.components.textbox.Textbox object at 0x11f7e8c50>\n",
       " |-<gradio.components.chatbot.Chatbot object at 0x11f2cd950>\n",
       " outputs:\n",
       " |-<gradio.components.textbox.Textbox object at 0x11f7e8c50>\n",
       " |-<gradio.components.chatbot.Chatbot object at 0x11f2cd950>\n",
       "fn_index=1\n",
       " inputs:\n",
       " |-<gradio.components.textbox.Textbox object at 0x11f7e8c50>\n",
       " |-<gradio.components.chatbot.Chatbot object at 0x11f2cd950>\n",
       " |-<gradio.components.dropdown.Dropdown object at 0x123608550>\n",
       " outputs:\n",
       " |-<gradio.components.textbox.Textbox object at 0x11f7e8c50>\n",
       " |-<gradio.components.chatbot.Chatbot object at 0x11f2cd950>\n",
       " |-<gradio.components.dropdown.Dropdown object at 0x123608550>\n",
       "fn_index=2\n",
       " inputs:\n",
       " |-<gradio.components.dropdown.Dropdown object at 0x123608550>\n",
       " outputs:\n",
       "fn_index=3\n",
       " inputs:\n",
       " |-<gradio.templates.Files object at 0x122a95b50>\n",
       " outputs:\n",
       "fn_index=4\n",
       " inputs:\n",
       " |-<gradio.components.textbox.Textbox object at 0x11f7e8c50>\n",
       " |-<gradio.components.chatbot.Chatbot object at 0x11f2cd950>\n",
       " outputs:\n",
       " |-<gradio.components.textbox.Textbox object at 0x11f7e8c50>\n",
       " |-<gradio.components.chatbot.Chatbot object at 0x11f2cd950>\n",
       "fn_index=5\n",
       " inputs:\n",
       " |-<gradio.components.textbox.Textbox object at 0x11f7e8c50>\n",
       " |-<gradio.components.chatbot.Chatbot object at 0x11f2cd950>\n",
       " |-<gradio.components.dropdown.Dropdown object at 0x123608550>\n",
       " outputs:\n",
       " |-<gradio.components.textbox.Textbox object at 0x11f7e8c50>\n",
       " |-<gradio.components.chatbot.Chatbot object at 0x11f2cd950>\n",
       " |-<gradio.components.dropdown.Dropdown object at 0x123608550>"
      ]
     },
     "execution_count": 9,
     "metadata": {},
     "output_type": "execute_result"
    },
    {
     "name": "stdout",
     "output_type": "stream",
     "text": [
      "Message files:  []\n",
      "Images:  []\n",
      "THREAD:[ user -> project_manager ]: URL https://platform.openai.com/playground/assistants?assistant=asst_q3bAPsDDQmwfijHqK7v8Z655&mode=assistant&thread=thread_awYwQAYJsii7m4eCHOOtpQtX\n",
      "THREAD:[ project_manager -> clickup_agent ]: URL https://platform.openai.com/playground/assistants?assistant=asst_NQWCwFwP37B8T5rATBm6Fi6E&mode=assistant&thread=thread_tT4NsmS9eZuM0FmYLzwfwHMl\n"
     ]
    },
    {
     "name": "stderr",
     "output_type": "stream",
     "text": [
      "[2025-02-27 18:56:41,742][ERROR] Tool execution failed: list_id is required for getting list information\n",
      "Traceback (most recent call last):\n",
      "  File \"/Users/morossini/Projects/professional_demos/agency_swarm_demo/agency_ai_demo/utils/tool_wrapper.py\", line 409, in run\n",
      "    result = tool_func._run(**kwargs)\n",
      "             ^^^^^^^^^^^^^^^^^^^^^^^^\n",
      "  File \"/Users/morossini/Projects/professional_demos/agency_swarm_demo/agency_ai_demo/agents/ClickUpAgent/tools/ClickUpTools.py\", line 1055, in _run\n",
      "    raise ToolException(\"list_id is required for getting list information\")\n",
      "langchain_core.tools.base.ToolException: list_id is required for getting list information\n"
     ]
    },
    {
     "name": "stdout",
     "output_type": "stream",
     "text": [
      "\n",
      "==== GetListTool._run received parameters: ====\n",
      "kwargs: {'kwargs': FieldInfo(annotation=NoneType, required=False, default=None, description='Parameter: kwargs')}\n",
      "\n",
      "==== GetTasksTool._run received parameters: ====\n",
      "kwargs: {'kwargs': FieldInfo(annotation=NoneType, required=False, default=None, description='Parameter: kwargs')}\n",
      "No list_id found in parameters, using hardcoded value 901307715461\n",
      "list_id being used: 901307715461\n",
      "==== End parameters ====\n",
      "\n",
      "URL being used: https://api.clickup.com/api/v2/list/901307715461/task\n",
      "Response status code: 200\n",
      "Returning filtered response with 1 items\n"
     ]
    },
    {
     "name": "stderr",
     "output_type": "stream",
     "text": [
      "[2025-02-27 18:56:46,276][ERROR] Tool execution failed: task_id is required for getting a task\n",
      "Traceback (most recent call last):\n",
      "  File \"/Users/morossini/Projects/professional_demos/agency_swarm_demo/agency_ai_demo/utils/tool_wrapper.py\", line 409, in run\n",
      "    result = tool_func._run(**kwargs)\n",
      "             ^^^^^^^^^^^^^^^^^^^^^^^^\n",
      "  File \"/Users/morossini/Projects/professional_demos/agency_swarm_demo/agency_ai_demo/agents/ClickUpAgent/tools/ClickUpTools.py\", line 1299, in _run\n",
      "    raise ToolException(\"task_id is required for getting a task\")\n",
      "langchain_core.tools.base.ToolException: task_id is required for getting a task\n"
     ]
    },
    {
     "name": "stdout",
     "output_type": "stream",
     "text": [
      "\n",
      "==== GetTaskTool._run received parameters: ====\n",
      "kwargs: {'kwargs': FieldInfo(annotation=NoneType, required=False, default=None, description='Parameter: kwargs')}\n"
     ]
    },
    {
     "name": "stderr",
     "output_type": "stream",
     "text": [
      "[2025-02-27 18:56:47,808][ERROR] Tool execution failed: task_id is required for getting a task\n",
      "Traceback (most recent call last):\n",
      "  File \"/Users/morossini/Projects/professional_demos/agency_swarm_demo/agency_ai_demo/utils/tool_wrapper.py\", line 409, in run\n",
      "    result = tool_func._run(**kwargs)\n",
      "             ^^^^^^^^^^^^^^^^^^^^^^^^\n",
      "  File \"/Users/morossini/Projects/professional_demos/agency_swarm_demo/agency_ai_demo/agents/ClickUpAgent/tools/ClickUpTools.py\", line 1299, in _run\n",
      "    raise ToolException(\"task_id is required for getting a task\")\n",
      "langchain_core.tools.base.ToolException: task_id is required for getting a task\n"
     ]
    },
    {
     "name": "stdout",
     "output_type": "stream",
     "text": [
      "\n",
      "==== GetTaskTool._run received parameters: ====\n",
      "kwargs: {'kwargs': FieldInfo(annotation=NoneType, required=False, default=None, description='Parameter: kwargs')}\n",
      "Message files:  []\n",
      "Images:  []\n",
      "THREAD:[ user -> project_manager ]: URL https://platform.openai.com/playground/assistants?assistant=asst_q3bAPsDDQmwfijHqK7v8Z655&mode=assistant&thread=thread_awYwQAYJsii7m4eCHOOtpQtX\n",
      "THREAD:[ project_manager -> clickup_agent ]: URL https://platform.openai.com/playground/assistants?assistant=asst_NQWCwFwP37B8T5rATBm6Fi6E&mode=assistant&thread=thread_tT4NsmS9eZuM0FmYLzwfwHMl\n"
     ]
    },
    {
     "name": "stderr",
     "output_type": "stream",
     "text": [
      "[2025-02-27 18:58:01,081][ERROR] Tool execution failed: task_id is required for getting a task\n",
      "Traceback (most recent call last):\n",
      "  File \"/Users/morossini/Projects/professional_demos/agency_swarm_demo/agency_ai_demo/utils/tool_wrapper.py\", line 409, in run\n",
      "    result = tool_func._run(**kwargs)\n",
      "             ^^^^^^^^^^^^^^^^^^^^^^^^\n",
      "  File \"/Users/morossini/Projects/professional_demos/agency_swarm_demo/agency_ai_demo/agents/ClickUpAgent/tools/ClickUpTools.py\", line 1299, in _run\n",
      "    raise ToolException(\"task_id is required for getting a task\")\n",
      "langchain_core.tools.base.ToolException: task_id is required for getting a task\n"
     ]
    },
    {
     "name": "stdout",
     "output_type": "stream",
     "text": [
      "\n",
      "==== GetTaskTool._run received parameters: ====\n",
      "kwargs: {'kwargs': FieldInfo(annotation=NoneType, required=False, default=None, description='Parameter: kwargs')}\n"
     ]
    },
    {
     "name": "stderr",
     "output_type": "stream",
     "text": [
      "[2025-02-27 18:58:04,314][ERROR] Tool execution failed: task_id is required for getting a task\n",
      "Traceback (most recent call last):\n",
      "  File \"/Users/morossini/Projects/professional_demos/agency_swarm_demo/agency_ai_demo/utils/tool_wrapper.py\", line 409, in run\n",
      "    result = tool_func._run(**kwargs)\n",
      "             ^^^^^^^^^^^^^^^^^^^^^^^^\n",
      "  File \"/Users/morossini/Projects/professional_demos/agency_swarm_demo/agency_ai_demo/agents/ClickUpAgent/tools/ClickUpTools.py\", line 1299, in _run\n",
      "    raise ToolException(\"task_id is required for getting a task\")\n",
      "langchain_core.tools.base.ToolException: task_id is required for getting a task\n"
     ]
    },
    {
     "name": "stdout",
     "output_type": "stream",
     "text": [
      "\n",
      "==== GetTaskTool._run received parameters: ====\n",
      "kwargs: {'kwargs': FieldInfo(annotation=NoneType, required=False, default=None, description='Parameter: kwargs')}\n"
     ]
    },
    {
     "name": "stderr",
     "output_type": "stream",
     "text": [
      "[2025-02-27 18:58:08,100][ERROR] Tool execution failed: task_id is required for getting a task\n",
      "Traceback (most recent call last):\n",
      "  File \"/Users/morossini/Projects/professional_demos/agency_swarm_demo/agency_ai_demo/utils/tool_wrapper.py\", line 409, in run\n",
      "    result = tool_func._run(**kwargs)\n",
      "             ^^^^^^^^^^^^^^^^^^^^^^^^\n",
      "  File \"/Users/morossini/Projects/professional_demos/agency_swarm_demo/agency_ai_demo/agents/ClickUpAgent/tools/ClickUpTools.py\", line 1299, in _run\n",
      "    raise ToolException(\"task_id is required for getting a task\")\n",
      "langchain_core.tools.base.ToolException: task_id is required for getting a task\n"
     ]
    },
    {
     "name": "stdout",
     "output_type": "stream",
     "text": [
      "\n",
      "==== GetTaskTool._run received parameters: ====\n",
      "kwargs: {'kwargs': FieldInfo(annotation=NoneType, required=False, default=None, description='Parameter: kwargs')}\n",
      "Message files:  []\n",
      "Images:  []\n",
      "THREAD:[ user -> project_manager ]: URL https://platform.openai.com/playground/assistants?assistant=asst_q3bAPsDDQmwfijHqK7v8Z655&mode=assistant&thread=thread_awYwQAYJsii7m4eCHOOtpQtX\n",
      "THREAD:[ project_manager -> clickup_agent ]: URL https://platform.openai.com/playground/assistants?assistant=asst_NQWCwFwP37B8T5rATBm6Fi6E&mode=assistant&thread=thread_tT4NsmS9eZuM0FmYLzwfwHMl\n",
      "\n",
      "==== CreateTaskTool._run received parameters: ====\n",
      "kwargs: {'kwargs': FieldInfo(annotation=NoneType, required=False, default=None, description='Parameter: kwargs')}\n",
      "No list_id found in parameters, using hardcoded value 901307715461\n",
      "list_id being used: 901307715461\n",
      "==== End parameters ====\n",
      "\n",
      "URL being used: https://api.clickup.com/api/v2/list/901307715461/task\n",
      "Request parameters: {'name': 'API TEST TASK', 'assignees': [81918955]}\n",
      "Response status code: 200\n",
      "Error response: {'id': '86a706rnx', 'custom_id': None, 'custom_item_id': 0, 'name': 'API TEST TASK', 'text_content': '', 'description': '', 'status': {'id': 'c90131663060_Uk5SstGY', 'status': 'backlog', 'color': '#9c09bc', 'orderindex': 0, 'type': 'open'}, 'orderindex': '120305513.00000000000000000000000000000000', 'date_created': '1740693545341', 'date_updated': '1740693545341', 'date_closed': None, 'date_done': None, 'archived': False, 'creator': {'id': 84141406, 'username': 'Ana Beatriz', 'color': '#455963', 'email': 'ti@cogmo.com.br', 'profilePicture': 'https://attachments.clickup.com/profilePictures/84141406_ZkZ.jpg'}, 'assignees': [{'id': 81918955, 'username': 'João Guilherme Silva Morossini', 'color': '#81b1ff', 'initials': 'JM', 'email': 'joaog.morossini@gmail.com', 'profilePicture': 'https://attachments.clickup.com/profilePictures/81918955_kcK.jpg'}], 'group_assignees': [], 'watchers': [{'id': 81918955, 'username': 'João Guilherme Silva Morossini', 'color': '#81b1ff', 'initials': 'JM', 'email': 'joaog.morossini@gmail.com', 'profilePicture': 'https://attachments.clickup.com/profilePictures/81918955_kcK.jpg'}, {'id': 84141406, 'username': 'Ana Beatriz', 'color': '#455963', 'initials': 'AB', 'email': 'ti@cogmo.com.br', 'profilePicture': 'https://attachments.clickup.com/profilePictures/84141406_ZkZ.jpg'}], 'checklists': [], 'tags': [], 'parent': None, 'top_level_parent': None, 'priority': None, 'due_date': None, 'start_date': None, 'points': None, 'time_estimate': None, 'time_spent': 0, 'custom_fields': [], 'dependencies': [], 'linked_tasks': [], 'locations': [], 'team_id': '12927880', 'url': 'https://app.clickup.com/t/86a706rnx', 'sharing': {'public': False, 'public_share_expires_on': None, 'public_fields': ['assignees', 'priority', 'due_date', 'content', 'comments', 'attachments', 'customFields', 'subtasks', 'tags', 'checklists', 'coverimage'], 'token': None, 'seo_optimized': False}, 'permission_level': 'create', 'list': {'id': '901307715461', 'name': 'test_clickup_tool', 'access': True}, 'project': {'id': '90131663060', 'name': 'Agentes', 'hidden': False, 'access': True}, 'folder': {'id': '90131663060', 'name': 'Agentes', 'hidden': False, 'access': True}, 'space': {'id': '54804921'}}\n",
      "Returning filtered response: {\n",
      "  \"id\": \"86a706rnx\",\n",
      "  \"name\": \"API TEST TASK\",\n",
      "  \"status\": \"backlog\",\n",
      "  \"assignees\": [\n",
      "    {\n",
      "      \"id\": 81918955,\n",
      "      \"username\": \"Jo\\u00e3o Guilherme Silva Morossini\",\n",
      "      \"color\": \"#81b1ff\",\n",
      "      \"initials\": \"JM\",\n",
      "      \"email\": \"joaog.morossini@gmail.com\",\n",
      "      \"profilePicture\": \"https://attachments.clickup.com/profilePictures/81918955_kcK.jpg\"\n",
      "    }\n",
      "  ],\n",
      "  \"due_date\": null,\n",
      "  \"error\": null\n",
      "}\n",
      "Message files:  []\n",
      "Images:  []\n",
      "THREAD:[ user -> project_manager ]: URL https://platform.openai.com/playground/assistants?assistant=asst_q3bAPsDDQmwfijHqK7v8Z655&mode=assistant&thread=thread_awYwQAYJsii7m4eCHOOtpQtX\n",
      "THREAD:[ project_manager -> clickup_agent ]: URL https://platform.openai.com/playground/assistants?assistant=asst_NQWCwFwP37B8T5rATBm6Fi6E&mode=assistant&thread=thread_tT4NsmS9eZuM0FmYLzwfwHMl\n",
      "\n",
      "==== CreateTaskTool._run received parameters: ====\n",
      "kwargs: {'kwargs': FieldInfo(annotation=NoneType, required=False, default=None, description='Parameter: kwargs')}\n",
      "No list_id found in parameters, using hardcoded value 901307715461\n",
      "list_id being used: 901307715461\n",
      "==== End parameters ====\n",
      "\n",
      "URL being used: https://api.clickup.com/api/v2/list/901307715461/task\n",
      "Request parameters: {'name': 'API TEST TASK', 'assignees': [81918955]}\n",
      "Response status code: 200\n",
      "Error response: {'id': '86a706rxv', 'custom_id': None, 'custom_item_id': 0, 'name': 'API TEST TASK', 'text_content': '', 'description': '', 'status': {'id': 'c90131663060_Uk5SstGY', 'status': 'backlog', 'color': '#9c09bc', 'orderindex': 0, 'type': 'open'}, 'orderindex': '120305514.00000000000000000000000000000000', 'date_created': '1740693581177', 'date_updated': '1740693581177', 'date_closed': None, 'date_done': None, 'archived': False, 'creator': {'id': 84141406, 'username': 'Ana Beatriz', 'color': '#455963', 'email': 'ti@cogmo.com.br', 'profilePicture': 'https://attachments.clickup.com/profilePictures/84141406_ZkZ.jpg'}, 'assignees': [{'id': 81918955, 'username': 'João Guilherme Silva Morossini', 'color': '#81b1ff', 'initials': 'JM', 'email': 'joaog.morossini@gmail.com', 'profilePicture': 'https://attachments.clickup.com/profilePictures/81918955_kcK.jpg'}], 'group_assignees': [], 'watchers': [{'id': 81918955, 'username': 'João Guilherme Silva Morossini', 'color': '#81b1ff', 'initials': 'JM', 'email': 'joaog.morossini@gmail.com', 'profilePicture': 'https://attachments.clickup.com/profilePictures/81918955_kcK.jpg'}, {'id': 84141406, 'username': 'Ana Beatriz', 'color': '#455963', 'initials': 'AB', 'email': 'ti@cogmo.com.br', 'profilePicture': 'https://attachments.clickup.com/profilePictures/84141406_ZkZ.jpg'}], 'checklists': [], 'tags': [], 'parent': None, 'top_level_parent': None, 'priority': None, 'due_date': None, 'start_date': None, 'points': None, 'time_estimate': None, 'time_spent': 0, 'custom_fields': [], 'dependencies': [], 'linked_tasks': [], 'locations': [], 'team_id': '12927880', 'url': 'https://app.clickup.com/t/86a706rxv', 'sharing': {'public': False, 'public_share_expires_on': None, 'public_fields': ['assignees', 'priority', 'due_date', 'content', 'comments', 'attachments', 'customFields', 'subtasks', 'tags', 'checklists', 'coverimage'], 'token': None, 'seo_optimized': False}, 'permission_level': 'create', 'list': {'id': '901307715461', 'name': 'test_clickup_tool', 'access': True}, 'project': {'id': '90131663060', 'name': 'Agentes', 'hidden': False, 'access': True}, 'folder': {'id': '90131663060', 'name': 'Agentes', 'hidden': False, 'access': True}, 'space': {'id': '54804921'}}\n",
      "Returning filtered response: {\n",
      "  \"id\": \"86a706rxv\",\n",
      "  \"name\": \"API TEST TASK\",\n",
      "  \"status\": \"backlog\",\n",
      "  \"assignees\": [\n",
      "    {\n",
      "      \"id\": 81918955,\n",
      "      \"username\": \"Jo\\u00e3o Guilherme Silva Morossini\",\n",
      "      \"color\": \"#81b1ff\",\n",
      "      \"initials\": \"JM\",\n",
      "      \"email\": \"joaog.morossini@gmail.com\",\n",
      "      \"profilePicture\": \"https://attachments.clickup.com/profilePictures/81918955_kcK.jpg\"\n",
      "    }\n",
      "  ],\n",
      "  \"due_date\": null,\n",
      "  \"error\": null\n",
      "}\n"
     ]
    }
   ],
   "source": [
    "agency.demo_gradio()"
   ]
  }
 ],
 "metadata": {
  "kernelspec": {
   "display_name": ".venv",
   "language": "python",
   "name": "python3"
  },
  "language_info": {
   "codemirror_mode": {
    "name": "ipython",
    "version": 3
   },
   "file_extension": ".py",
   "mimetype": "text/x-python",
   "name": "python",
   "nbconvert_exporter": "python",
   "pygments_lexer": "ipython3",
   "version": "3.11.3"
  }
 },
 "nbformat": 4,
 "nbformat_minor": 2
}
